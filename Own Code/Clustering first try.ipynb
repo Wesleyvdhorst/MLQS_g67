{
 "cells": [
  {
   "cell_type": "code",
   "execution_count": 10,
   "metadata": {},
   "outputs": [
    {
     "name": "stdout",
     "output_type": "stream",
     "text": [
      "Validation set accuracy: 0.27\n",
      "Cluster to label mapping:\n",
      "Cluster 0: Label 2\n",
      "Cluster 1: Label 5\n",
      "Cluster 2: Label 2\n",
      "Cluster 3: Label 6\n",
      "Cluster 4: Label 2\n",
      "Cluster 5: Label 5\n",
      "Cluster 6: Label 5\n",
      "Cluster 7: Label 5\n"
     ]
    }
   ],
   "source": [
    "import pandas as pd\n",
    "from sklearn.cluster import KMeans\n",
    "from sklearn.metrics import accuracy_score\n",
    "from sklearn.model_selection import train_test_split\n",
    "import numpy as np\n",
    "\n",
    "# Load the datasets\n",
    "train_data = pd.read_csv('Sets/train_data.csv')\n",
    "val_data = pd.read_csv('Sets/val_data.csv')\n",
    "\n",
    "# Separate features and labels\n",
    "X_train = train_data.drop(columns=['label'])\n",
    "y_train = train_data['label']\n",
    "X_val = val_data.drop(columns=['label'])\n",
    "y_val = val_data['label']\n",
    "\n",
    "# Perform K-Means clustering with 8 clusters\n",
    "kmeans = KMeans(n_clusters=8, random_state=42)\n",
    "kmeans.fit(X_train)\n",
    "\n",
    "# Predict the clusters for the validation set\n",
    "val_clusters = kmeans.predict(X_val)\n",
    "\n",
    "# Map clusters to labels\n",
    "# For each cluster, determine the most frequent label in the training data\n",
    "cluster_label_mapping = {}\n",
    "for cluster in range(8):\n",
    "    mask = (kmeans.labels_ == cluster)\n",
    "    most_common_label = y_train[mask].mode()[0]\n",
    "    cluster_label_mapping[cluster] = most_common_label\n",
    "\n",
    "# Convert clusters to predicted labels\n",
    "val_predicted_labels = [cluster_label_mapping[cluster] for cluster in val_clusters]\n",
    "\n",
    "# Evaluate accuracy\n",
    "accuracy = accuracy_score(y_val, val_predicted_labels)\n",
    "print(f'Validation set accuracy: {accuracy:.2f}')\n",
    "\n",
    "# Optional: Print the mapping from clusters to labels\n",
    "print(\"Cluster to label mapping:\")\n",
    "for cluster, label in cluster_label_mapping.items():\n",
    "    print(f\"Cluster {cluster}: Label {label}\")"
   ]
  },
  {
   "cell_type": "code",
   "execution_count": 9,
   "metadata": {},
   "outputs": [
    {
     "data": {
      "text/plain": [
       "5    3553\n",
       "2    3372\n",
       "6    2442\n",
       "0    2225\n",
       "3    1706\n",
       "4    1696\n",
       "1     751\n",
       "7     740\n",
       "Name: label, dtype: int64"
      ]
     },
     "execution_count": 9,
     "metadata": {},
     "output_type": "execute_result"
    }
   ],
   "source": [
    "train_data['label'].value_counts()"
   ]
  },
  {
   "cell_type": "code",
   "execution_count": null,
   "metadata": {},
   "outputs": [],
   "source": []
  }
 ],
 "metadata": {
  "kernelspec": {
   "display_name": "base",
   "language": "python",
   "name": "python3"
  },
  "language_info": {
   "codemirror_mode": {
    "name": "ipython",
    "version": 3
   },
   "file_extension": ".py",
   "mimetype": "text/x-python",
   "name": "python",
   "nbconvert_exporter": "python",
   "pygments_lexer": "ipython3",
   "version": "2021.5.undefined"
  }
 },
 "nbformat": 4,
 "nbformat_minor": 2
}
