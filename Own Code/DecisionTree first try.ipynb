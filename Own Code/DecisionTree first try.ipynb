{
 "cells": [
  {
   "cell_type": "code",
   "execution_count": 3,
   "metadata": {},
   "outputs": [
    {
     "name": "stdout",
     "output_type": "stream",
     "text": [
      "Validation set accuracy: 0.83\n",
      "\n",
      "Classification Report:\n",
      "              precision    recall  f1-score   support\n",
      "\n",
      "           0       0.89      0.93      0.91       350\n",
      "           1       0.64      0.65      0.64       136\n",
      "           2       0.78      0.78      0.78       510\n",
      "           3       0.62      0.64      0.63       244\n",
      "           4       0.64      0.59      0.62       257\n",
      "           5       1.00      1.00      1.00       525\n",
      "           6       0.89      0.87      0.88       392\n",
      "           7       0.94      0.93      0.93       122\n",
      "\n",
      "    accuracy                           0.83      2536\n",
      "   macro avg       0.80      0.80      0.80      2536\n",
      "weighted avg       0.83      0.83      0.83      2536\n",
      "\n",
      "\n",
      "Confusion Matrix:\n",
      "[[326   5   5   8   4   0   1   1]\n",
      " [  6  88   5  14   5   0  18   0]\n",
      " [ 12   6 399  39  41   0  10   3]\n",
      " [  7   7  44 157  22   0   6   1]\n",
      " [ 15  10  46  24 152   0   8   2]\n",
      " [  0   0   0   0   0 525   0   0]\n",
      " [  1  20  10  11  10   0 340   0]\n",
      " [  1   1   4   1   2   0   0 113]]\n"
     ]
    }
   ],
   "source": [
    "import pandas as pd\n",
    "from sklearn.tree import DecisionTreeClassifier\n",
    "from sklearn.metrics import accuracy_score, classification_report, confusion_matrix\n",
    "from sklearn.model_selection import train_test_split\n",
    "import matplotlib.pyplot as plt\n",
    "from sklearn import tree\n",
    "\n",
    "# Load the datasets\n",
    "train_data = pd.read_csv('Sets/train_data.csv')\n",
    "val_data = pd.read_csv('Sets/val_data.csv')\n",
    "\n",
    "# Separate features and labels\n",
    "X_train = train_data.drop(columns=['label'])\n",
    "y_train = train_data['label']\n",
    "X_val = val_data.drop(columns=['label'])\n",
    "y_val = val_data['label']\n",
    "\n",
    "# Initialize the Decision Tree classifier\n",
    "dt_classifier = DecisionTreeClassifier(random_state=42)\n",
    "\n",
    "# Train the Decision Tree classifier on the training data\n",
    "dt_classifier.fit(X_train, y_train)\n",
    "\n",
    "# Predict the labels for the validation set\n",
    "val_predicted_labels = dt_classifier.predict(X_val)\n",
    "\n",
    "# Evaluate the accuracy of the model\n",
    "accuracy = accuracy_score(y_val, val_predicted_labels)\n",
    "print(f'Validation set accuracy: {accuracy:.2f}')\n",
    "\n",
    "# Print classification report\n",
    "print(\"\\nClassification Report:\")\n",
    "print(classification_report(y_val, val_predicted_labels))\n",
    "\n",
    "# Print confusion matrix\n",
    "print(\"\\nConfusion Matrix:\")\n",
    "print(confusion_matrix(y_val, val_predicted_labels))\n",
    "\n"
   ]
  },
  {
   "cell_type": "code",
   "execution_count": 5,
   "metadata": {},
   "outputs": [
    {
     "name": "stdout",
     "output_type": "stream",
     "text": [
      "Validation set accuracy: 0.91\n",
      "\n",
      "Classification Report:\n",
      "              precision    recall  f1-score   support\n",
      "\n",
      "           0       0.98      0.99      0.98       350\n",
      "           1       0.90      0.76      0.82       136\n",
      "           2       0.87      0.89      0.88       510\n",
      "           3       0.75      0.87      0.80       244\n",
      "           4       0.80      0.74      0.77       257\n",
      "           5       1.00      1.00      1.00       525\n",
      "           6       0.95      0.92      0.93       392\n",
      "           7       0.99      0.98      0.99       122\n",
      "\n",
      "    accuracy                           0.91      2536\n",
      "   macro avg       0.90      0.89      0.90      2536\n",
      "weighted avg       0.91      0.91      0.91      2536\n",
      "\n",
      "\n",
      "Confusion Matrix:\n",
      "[[346   0   2   1   1   0   0   0]\n",
      " [  5 103   3   5   6   0  14   0]\n",
      " [  2   2 454  25  23   0   4   0]\n",
      " [  0   2  27 212   3   0   0   0]\n",
      " [  1   0  29  35 189   0   2   1]\n",
      " [  0   0   0   0   0 525   0   0]\n",
      " [  0   8   2   6  15   0 361   0]\n",
      " [  0   0   2   0   0   0   0 120]]\n"
     ]
    },
    {
     "data": {
      "image/png": "[encoded data removed]",
      "text/plain": [
       "<Figure size 720x504 with 2 Axes>"
      ]
     },
     "metadata": {
      "needs_background": "light"
     },
     "output_type": "display_data"
    }
   ],
   "source": [
    "import pandas as pd\n",
    "from sklearn.ensemble import RandomForestClassifier\n",
    "from sklearn.metrics import accuracy_score, classification_report, confusion_matrix\n",
    "import matplotlib.pyplot as plt\n",
    "import seaborn as sns\n",
    "\n",
    "# Load the datasets\n",
    "train_data = pd.read_csv('Sets/train_data.csv')\n",
    "val_data = pd.read_csv('Sets/val_data.csv')\n",
    "\n",
    "# Separate features and labels\n",
    "X_train = train_data.drop(columns=['label'])\n",
    "y_train = train_data['label']\n",
    "X_val = val_data.drop(columns=['label'])\n",
    "y_val = val_data['label']\n",
    "\n",
    "# Initialize the Random Forest classifier\n",
    "rf_classifier = RandomForestClassifier(n_estimators=100, random_state=42)\n",
    "\n",
    "# Train the Random Forest classifier on the training data\n",
    "rf_classifier.fit(X_train, y_train)\n",
    "\n",
    "# Predict the labels for the validation set\n",
    "val_predicted_labels = rf_classifier.predict(X_val)\n",
    "\n",
    "# Evaluate the accuracy of the model\n",
    "accuracy = accuracy_score(y_val, val_predicted_labels)\n",
    "print(f'Validation set accuracy: {accuracy:.2f}')\n",
    "\n",
    "# Print classification report\n",
    "print(\"\\nClassification Report:\")\n",
    "print(classification_report(y_val, val_predicted_labels))\n",
    "\n",
    "# Print confusion matrix\n",
    "conf_matrix = confusion_matrix(y_val, val_predicted_labels)\n",
    "print(\"\\nConfusion Matrix:\")\n",
    "print(conf_matrix)\n",
    "\n",
    "# Plot the confusion matrix\n",
    "plt.figure(figsize=(10, 7))\n",
    "sns.heatmap(conf_matrix, annot=True, fmt='d', cmap='Blues', xticklabels=sorted(y_train.unique()), yticklabels=sorted(y_train.unique()))\n",
    "plt.xlabel('Predicted')\n",
    "plt.ylabel('True')\n",
    "plt.title('Confusion Matrix')\n",
    "plt.show()"
   ]
  },
  {
   "cell_type": "code",
   "execution_count": null,
   "metadata": {},
   "outputs": [],
   "source": []
  }
 ],
 "metadata": {
  "kernelspec": {
   "display_name": "base",
   "language": "python",
   "name": "python3"
  },
  "language_info": {
   "codemirror_mode": {
    "name": "ipython",
    "version": 3
   },
   "file_extension": ".py",
   "mimetype": "text/x-python",
   "name": "python",
   "nbconvert_exporter": "python",
   "pygments_lexer": "ipython3",
   "version": "3.8.8"
  }
 },
 "nbformat": 4,
 "nbformat_minor": 2
}
